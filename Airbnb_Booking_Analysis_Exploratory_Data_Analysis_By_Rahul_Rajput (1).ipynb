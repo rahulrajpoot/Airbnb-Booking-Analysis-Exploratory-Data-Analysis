{
  "nbformat": 4,
  "nbformat_minor": 0,
  "metadata": {
    "colab": {
      "private_outputs": true,
      "provenance": []
    },
    "kernelspec": {
      "name": "python3",
      "display_name": "Python 3"
    },
    "language_info": {
      "name": "python"
    }
  },
  "cells": [
    {
      "cell_type": "markdown",
      "source": [
        "# **Project Name**    -  Airbnb Booking Analysis Exploratory Data Analysis\n",
        "\n",
        "\n"
      ],
      "metadata": {
        "id": "vncDsAP0Gaoa"
      }
    },
    {
      "cell_type": "code",
      "source": [],
      "metadata": {
        "id": "SZkXkIoE3AAa"
      },
      "execution_count": null,
      "outputs": []
    },
    {
      "cell_type": "markdown",
      "source": [
        "##### **Project Type**    - EDA\n",
        "##### **Contribution**    - Individual\n",
        "##### Name - Rahul Rajput\n",
        "\n",
        "\n"
      ],
      "metadata": {
        "id": "beRrZCGUAJYm"
      }
    },
    {
      "cell_type": "markdown",
      "source": [
        "# **Project Summary -**\n",
        "Since 2008, guests and hosts have used Airbnb to expand on travelling possibilities and present a more unique, personalised way of experiencing the world. Today, Airbnb became one of a kind service that is used and recognized by the whole world. Data analysis on millions of listings provided through Airbnb is a crucial factor for the company. These millions of listings generate a lot of data - data that can be analysed and used for security, business decisions, understanding of customers' and providers' (hosts) behaviour and performance on the platform, guiding marketing initiatives, implementation of innovative additional services and much more.\n",
        "\n",
        "This dataset has around 49,000 observations in it with 16 columns and it is a mix of categorical and numeric values. Explore and analyse the data to discover key understandings."
      ],
      "metadata": {
        "id": "FJNUwmbgGyua"
      }
    },
    {
      "cell_type": "markdown",
      "source": [
        "# **Problem Statement**\n",
        "**Lets Explore and analyze the Data set and find some insights**\n",
        "1. What can we learn about different hosts and areas?\n",
        "\n",
        "2. What we learn from room type and their prices according to area?\n",
        "\n",
        "3. What can we learn from Data?(ex: Locations, prices, reviews,etx)\n",
        "\n",
        "4. Which hosts are the busiest and what is the reason?\n",
        "\n",
        "5. Which Hosts are charging higher price?\n",
        "\n",
        "6. Is there any traffic difference among different areas and what could be the reason for it?\n",
        "\n",
        "7. What is the correlation between different variables?\n",
        "\n",
        "8. What is the room count in overall NYC according to the listing of room types?"
      ],
      "metadata": {
        "id": "yQaldy8SH6Dl"
      }
    },
    {
      "cell_type": "markdown",
      "source": [
        "**Github Link :**"
      ],
      "metadata": {
        "id": "QiAdWjiPtN6A"
      }
    },
    {
      "cell_type": "markdown",
      "source": [
        "### Import Libraries"
      ],
      "metadata": {
        "id": "Y3lxredqlCYt"
      }
    },
    {
      "cell_type": "code",
      "source": [
        "# Import Libraries\n",
        "import pandas as pd\n",
        "import numpy as np\n",
        "import matplotlib.pyplot as plt\n",
        "import seaborn as sns\n",
        "%matplotlib inline"
      ],
      "metadata": {
        "id": "M8Vqi-pPk-HR"
      },
      "execution_count": null,
      "outputs": []
    },
    {
      "cell_type": "markdown",
      "source": [
        "### Mounting drive\n"
      ],
      "metadata": {
        "id": "3RnN4peoiCZX"
      }
    },
    {
      "cell_type": "code",
      "source": [
        "from google.colab import drive\n",
        "drive.mount('/content/drive')"
      ],
      "metadata": {
        "id": "4CkvbW_SlZ_R"
      },
      "execution_count": null,
      "outputs": []
    },
    {
      "cell_type": "markdown",
      "source": [
        "### Reading Dataset"
      ],
      "metadata": {
        "id": "x71ZqKXriCWQ"
      }
    },
    {
      "cell_type": "code",
      "source": [
        "airbnb = pd.read_csv('/Airbnb NYC 2019 (1).csv')\n",
        "airbnb"
      ],
      "metadata": {
        "id": "LWNFOSvLl09H"
      },
      "execution_count": null,
      "outputs": []
    },
    {
      "cell_type": "markdown",
      "source": [
        "### Dataset Description and Information"
      ],
      "metadata": {
        "id": "7hBIi_osiCS2"
      }
    },
    {
      "cell_type": "code",
      "source": [
        "airbnb.describe()"
      ],
      "metadata": {
        "id": "Kllu7SJgmLij"
      },
      "execution_count": null,
      "outputs": []
    },
    {
      "cell_type": "code",
      "source": [
        "airbnb.info()"
      ],
      "metadata": {
        "id": "PIbS0WCl271b"
      },
      "execution_count": null,
      "outputs": []
    },
    {
      "cell_type": "code",
      "source": [
        "airbnb.isnull().sum()"
      ],
      "metadata": {
        "id": "a_GuDVYB3XkE"
      },
      "execution_count": null,
      "outputs": []
    },
    {
      "cell_type": "code",
      "source": [
        "airbnb.columns"
      ],
      "metadata": {
        "id": "6ErSkRLz3hY8"
      },
      "execution_count": null,
      "outputs": []
    },
    {
      "cell_type": "markdown",
      "source": [
        "### Deleting the unnecesary columns"
      ],
      "metadata": {
        "id": "JlHwYmJAmNHm"
      }
    },
    {
      "cell_type": "code",
      "source": [
        "airbnb.drop(['latitude','longitude','last_review','reviews_per_month'],axis=1,inplace=True)"
      ],
      "metadata": {
        "id": "e9hRXRi6meOf"
      },
      "execution_count": null,
      "outputs": []
    },
    {
      "cell_type": "code",
      "source": [
        "airbnb.head(10)"
      ],
      "metadata": {
        "id": "5qUDkuO75g_7"
      },
      "execution_count": null,
      "outputs": []
    },
    {
      "cell_type": "markdown",
      "source": [
        "**1.What can we learn about different hosts areas?**"
      ],
      "metadata": {
        "id": "etKKVidr9VhL"
      }
    },
    {
      "cell_type": "code",
      "source": [
        "host_areas = airbnb.groupby(['host_name','neighbourhood_group'])['calculated_host_listings_count'].max().reset_index()\n",
        "host_areas.sort_values(by='calculated_host_listings_count',ascending=False).head(5)"
      ],
      "metadata": {
        "id": "gAxalMaU9UbT"
      },
      "execution_count": null,
      "outputs": []
    },
    {
      "cell_type": "markdown",
      "source": [
        "We find that Host name **Sonder(NYC)** has listed highest number of listings in **Manhattan** followed by Blueground"
      ],
      "metadata": {
        "id": "tWqYAQk1_MYE"
      }
    },
    {
      "cell_type": "markdown",
      "source": [
        "**2. What we learn from room type and their prices according to area?**"
      ],
      "metadata": {
        "id": "NyDoqYANAInZ"
      }
    },
    {
      "cell_type": "code",
      "source": [
        "room_price_area_wise = airbnb.groupby(['neighbourhood_group','room_type'])['price'].max().reset_index()\n",
        "room_price_area_wise.sort_values(by='price',ascending=False).head(10)"
      ],
      "metadata": {
        "id": "29zaH0v9ATWu"
      },
      "execution_count": null,
      "outputs": []
    },
    {
      "cell_type": "markdown",
      "source": [
        "Visualize the data\n"
      ],
      "metadata": {
        "id": "pJ2ANdbrCfGN"
      }
    },
    {
      "cell_type": "code",
      "source": [
        "neighbourhood_group = ['Brooklyn','Manhattan','Queens','Manhattan','Brooklyn','Staten Island','Queens','Bronx','Queens','Bronx']\n",
        "room_type = ['Entire home/apt','Entire home/apt','Private room','Private room','Entire home/apt','Entire home/apt','Private room','Private room','Entire home/apt','Shared room']\n",
        "\n",
        "room_dict = {}\n",
        "\n",
        "for i in room_type:\n",
        "  room_dict[i] = room_dict.get(i,0) + 1\n",
        "\n",
        "plt.bar(room_dict.keys(),room_dict.values(),color = 'green', edgecolor='blue')\n",
        "plt.title('Room Types')\n",
        "plt.xlabel('Room Type')\n",
        "plt.ylabel('Count')\n",
        "plt.show()"
      ],
      "metadata": {
        "id": "iai1FxyWCjNL"
      },
      "execution_count": null,
      "outputs": []
    },
    {
      "cell_type": "markdown",
      "source": [
        "We found that **Entire home/apt** is the highest number of room types overall and prices are high in the **brooklyn** and **Manhattan** for entire home/apt."
      ],
      "metadata": {
        "id": "ThUooGfLIC5Z"
      }
    },
    {
      "cell_type": "markdown",
      "source": [
        "**3. What can we learn from Data? (ex: locations,prices,reviews,etc)**"
      ],
      "metadata": {
        "id": "yLA-_PcKIpio"
      }
    },
    {
      "cell_type": "code",
      "source": [
        "area_reviews = airbnb.groupby(['neighbourhood_group'])['number_of_reviews'].max().reset_index()\n",
        "area_reviews"
      ],
      "metadata": {
        "id": "UR1zqhbRI3kP"
      },
      "execution_count": null,
      "outputs": []
    },
    {
      "cell_type": "code",
      "source": [
        "area = area_reviews['neighbourhood_group']\n",
        "review = area_reviews['number_of_reviews']\n",
        "fig = plt.figure(figsize=(10,5))\n",
        "\n",
        "plt.bar(area,review,color = 'blue',width = 0.5)\n",
        "plt.xlabel('Area')\n",
        "plt.ylabel('Review')\n",
        "plt.title(\"Number of Reviews in term of area\")\n",
        "plt.show()"
      ],
      "metadata": {
        "id": "AoDfGqI4J9Dg"
      },
      "execution_count": null,
      "outputs": []
    },
    {
      "cell_type": "code",
      "source": [
        "price_area = airbnb.groupby(['price'])['number_of_reviews'].max().reset_index()\n",
        "price_area.head(10)"
      ],
      "metadata": {
        "id": "n_njTxgcLAIz"
      },
      "execution_count": null,
      "outputs": []
    },
    {
      "cell_type": "code",
      "source": [
        "price_list = price_area['price']\n",
        "review = price_area['number_of_reviews']\n",
        "fig = plt.figure(figsize = (10,5))\n",
        "\n",
        "plt.scatter(price_list, review)\n",
        "plt.xlabel('Price')\n",
        "plt.ylabel(\"Number of reviews\")\n",
        "plt.title('Number of Reviews Vs Price')\n",
        "plt.show()"
      ],
      "metadata": {
        "id": "FD50x7YTLZB-"
      },
      "execution_count": null,
      "outputs": []
    },
    {
      "cell_type": "markdown",
      "source": [
        "From above visualization we can say that most number of people like to stay in less price and their reviews are higher in those areas."
      ],
      "metadata": {
        "id": "fKjew0veMcE_"
      }
    },
    {
      "cell_type": "markdown",
      "source": [
        "**4. Which hosts are the busiest and why is the reason?**"
      ],
      "metadata": {
        "id": "MRJknEpYMsaP"
      }
    },
    {
      "cell_type": "code",
      "source": [
        "busy_hosts = airbnb.groupby(['host_id','host_name','room_type'])['number_of_reviews'].max().reset_index()\n",
        "busy_hosts = busy_hosts.sort_values(by = 'number_of_reviews',ascending = False).head(10)\n",
        "busy_hosts"
      ],
      "metadata": {
        "id": "re-usPp-M4yl"
      },
      "execution_count": null,
      "outputs": []
    },
    {
      "cell_type": "code",
      "source": [
        "name_hosts = busy_hosts['host_name']\n",
        "review_got = busy_hosts['number_of_reviews']\n",
        "\n",
        "fig = plt.figure(figsize = (10,5))\n",
        "\n",
        "plt.bar(name_hosts,review_got, color= 'purple',width =0.5)\n",
        "plt.xlabel('Name of the Host')\n",
        "plt.ylabel('Review')\n",
        "plt.title(\"Busiest Host in terms of reviews\")\n",
        "plt.show()"
      ],
      "metadata": {
        "id": "YWQxoj6qRIAS"
      },
      "execution_count": null,
      "outputs": []
    },
    {
      "cell_type": "markdown",
      "source": [
        "**We have found Busiest hosts :**\n",
        "\n",
        "1. Dona\n",
        "2. Ji\n",
        "3. Maya\n",
        "4. Carol\n",
        "5. Danielle"
      ],
      "metadata": {
        "id": "rTziFZiVSjDe"
      }
    },
    {
      "cell_type": "markdown",
      "source": [
        "Because these hosts listed their room type as Entire home and Private room which is preferred by most number of people and also their reviews are higher."
      ],
      "metadata": {
        "id": "VUvo_0ZDSzVL"
      }
    },
    {
      "cell_type": "markdown",
      "source": [
        "**5. Which Hosts are charging higher price ?**"
      ],
      "metadata": {
        "id": "7nCrIJbrTIyG"
      }
    },
    {
      "cell_type": "code",
      "source": [
        "Highest_price = airbnb.groupby(['host_id','host_name','room_type','neighbourhood_group'])['price'].max().reset_index()\n",
        "Highest_price = Highest_price.sort_values(by = 'price',ascending = False).head(10)\n",
        "Highest_price"
      ],
      "metadata": {
        "id": "MzEulEVGTWnx"
      },
      "execution_count": null,
      "outputs": []
    },
    {
      "cell_type": "code",
      "source": [
        "name_of_host = Highest_price['host_name']\n",
        "price_charge = Highest_price['price']\n",
        "\n",
        "fig = plt.figure(figsize = (10,5))\n",
        "\n",
        "plt.bar(name_of_host,price_charge, color = 'orange',width = 0.5)\n",
        "plt.xlabel('Name of the Host')\n",
        "plt.ylabel('Price')\n",
        "plt.title(\"Hosts with maximum price charges\")\n",
        "plt.show()"
      ],
      "metadata": {
        "id": "HRobdAlvURZD"
      },
      "execution_count": null,
      "outputs": []
    },
    {
      "cell_type": "markdown",
      "source": [
        "**Now we have seen that 10 Hosts who are charging maximum price:**\n",
        "\n",
        "Jelena,Kathrine,Erin,Matt,Olson,Amy,Rum,Jessica,Sally,Jack\n",
        "\n",
        "Maximum price is 10000 USD"
      ],
      "metadata": {
        "id": "2RF8GF3nVTmb"
      }
    },
    {
      "cell_type": "markdown",
      "source": [
        "**6. Is there any traffic difference among different areas and what could be the reason for it?**"
      ],
      "metadata": {
        "id": "NSj2tdXwVwwF"
      }
    },
    {
      "cell_type": "code",
      "source": [
        "traffic_areas = airbnb.groupby(['neighbourhood_group','room_type'])['minimum_nights'].count().reset_index()\n",
        "traffic_areas = traffic_areas.sort_values(by = 'minimum_nights',ascending = False).head(10)\n",
        "traffic_areas"
      ],
      "metadata": {
        "id": "DpmEckVWWdmE"
      },
      "execution_count": null,
      "outputs": []
    },
    {
      "cell_type": "code",
      "source": [
        "areas_Traffic = traffic_areas['room_type']\n",
        "room_stayed = traffic_areas['minimum_nights']\n",
        "\n",
        "fig = plt.figure(figsize = (7,5))\n",
        "plt.bar(areas_Traffic,room_stayed, color = 'Blue', width = 0.2)\n",
        "\n",
        "plt.xlabel('Room Type')\n",
        "plt.ylabel('Minimum Night')\n",
        "plt.title(\"Traffic Areas based on Minimum Nights Booked\")\n",
        "plt.show()"
      ],
      "metadata": {
        "id": "raXqgJWVXTYJ"
      },
      "execution_count": null,
      "outputs": []
    },
    {
      "cell_type": "markdown",
      "source": [
        "From this visualization We found that most of the people likely to stay at Entire home and Private room which are present in Mantattan, Brooklyn & Queens and also vistors referring stay in rooms which listing price is less"
      ],
      "metadata": {
        "id": "m6uWMOFnY-t8"
      }
    },
    {
      "cell_type": "code",
      "source": [
        "airbnb"
      ],
      "metadata": {
        "id": "cAlCbDPSZX0-"
      },
      "execution_count": null,
      "outputs": []
    },
    {
      "cell_type": "markdown",
      "source": [
        "**7. What is the correlation between different variables ?**"
      ],
      "metadata": {
        "id": "yKJVdhfXZeZG"
      }
    },
    {
      "cell_type": "code",
      "source": [
        "corr = airbnb.corr(method = 'kendall')\n",
        "fig = plt.figure(figsize = (12,6))\n",
        "sns.heatmap(corr, annot = True)\n",
        "airbnb.columns"
      ],
      "metadata": {
        "id": "aq-1VIIIZttq"
      },
      "execution_count": null,
      "outputs": []
    },
    {
      "cell_type": "markdown",
      "source": [
        "We have seen all the Correlations between all the variables."
      ],
      "metadata": {
        "id": "mlQ_ZUQWafDW"
      }
    },
    {
      "cell_type": "markdown",
      "source": [
        "**8. What is the room count in overall NYC according to the listing of room types ?**"
      ],
      "metadata": {
        "id": "C3u_xBPtakwo"
      }
    },
    {
      "cell_type": "code",
      "source": [
        "plt.rcParams['figure.figsize'] = (8,5)\n",
        "ax = sns.countplot(y='room_type', hue= 'neighbourhood_group',data = airbnb, palette = 'bright')\n",
        "\n",
        "total = len(airbnb['room_type'])\n",
        "for p in ax.patches:\n",
        "      percentage = '{:.1f}%' . format(100 * p.get_width()/total)\n",
        "      x = p.get_x() + p.get_width() +0.02\n",
        "      y = p.get_y() + p.get_height()/2\n",
        "      ax.annotate(percentage, (x,y))\n",
        "\n",
        "plt.title('Count of each room types in NYC')\n",
        "plt.xlabel('Rooms')\n",
        "plt.xticks(rotation=90)\n",
        "plt.ylabel('Room Counts')\n",
        "\n",
        "plt.show()"
      ],
      "metadata": {
        "id": "sdHVQoObbXZ9"
      },
      "execution_count": null,
      "outputs": []
    },
    {
      "cell_type": "markdown",
      "source": [
        "Manhattan has more listed properties with Entire home/apt around 27% of total listed properties followed by Brooklyn with around 19.6%\n",
        "\n",
        "Private rooms are more in Brooklyn as in 20.7% of the total listed properties followed by Manhattan with 16.3% of them. While 6.9% of Private rooms are from Queens.\n",
        "\n",
        "We can infer that Brooklyn, Queens,Bronx has more private rooms types while Manhattan which has the highest no of listings in entire NYC has more Entire home/apt room types.\n"
      ],
      "metadata": {
        "id": "FUx4XgGzdXgZ"
      }
    },
    {
      "cell_type": "markdown",
      "source": [
        "**CONCLUSION :**"
      ],
      "metadata": {
        "id": "pIRJqXsfezaB"
      }
    },
    {
      "cell_type": "markdown",
      "source": [
        "1. We find that Host name **Sonder(NYC)** has listed highest number of listings in **Manhattan** followed by Blueground.\n",
        "\n",
        "2. We found that Entire home/apt is the highest number of room types overall and prices are high in the brooklyn and Manhattan for entire home/apt.\n",
        "\n",
        "3. From above visualization we can say that most number of people like to stay in less price and their reviews are higher in those areas.\n",
        "\n",
        "4. We have found Busiest hosts :\n",
        "Dona\n",
        "Ji\n",
        "Maya\n",
        "Carol\n",
        "Danielle\n",
        "\n",
        "5. Now we have seen that 10 Hosts who are charging maximum price:\n",
        "Jelena,Kathrine,Erin,Matt,Olson,Amy,Rum,Jessica,Sally,Jack\n",
        "Maximum price is 10000 USD\n",
        "\n",
        "6. From this visualization We found that most of the people likely to stay at Entire home and Private room which are present in Mantattan, Brooklyn & Queens and also vistors referring stay in rooms which listing price is less\n",
        "\n",
        "7. We have seen all the Correlations between all the variables\n",
        "\n",
        "8. Manhattan has more listed properties with Entire home/apt around 27% of total listed properties followed by Brooklyn with around 19.6%\n",
        "Private rooms are more in Brooklyn as in 20.7% of the total listed properties followed by Manhattan with 16.3% of them. While 6.9% of Private rooms are from Queens.\n",
        "We can infer that Brooklyn, Queens,Bronx has more private rooms types while Manhattan which has the highest no of listings in entire NYC has more Entire home/apt room types.\n"
      ],
      "metadata": {
        "id": "-_I54UwcfAIM"
      }
    },
    {
      "cell_type": "markdown",
      "source": [
        "***Thank You...!***"
      ],
      "metadata": {
        "id": "Jj_rSvYggkZu"
      }
    }
  ]
}